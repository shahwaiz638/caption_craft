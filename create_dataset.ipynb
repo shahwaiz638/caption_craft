{
 "cells": [
  {
   "cell_type": "code",
   "execution_count": null,
   "metadata": {},
   "outputs": [],
   "source": [
    "from pathlib import Path"
   ]
  },
  {
   "cell_type": "code",
   "execution_count": 12,
   "metadata": {},
   "outputs": [],
   "source": [
    "def save_dataset_to_file(dataset, file_path):\n",
    "    with open(file_path, 'w', encoding='utf-8') as file:\n",
    "        for pair in dataset:\n",
    "            short_caption, long_caption = pair\n",
    "            file.write(short_caption + '\\n')\n",
    "            file.write(long_caption + '\\n')\n",
    "\n",
    "\n"
   ]
  },
  {
   "cell_type": "code",
   "execution_count": 2,
   "metadata": {},
   "outputs": [],
   "source": [
    "def load_data(file_path):\n",
    "    # Initialize an empty list to store caption pairs\n",
    "    caption_pairs = []\n",
    "\n",
    "    # Read lines from the file\n",
    "    with open(file_path, 'r', encoding='utf-8') as file:\n",
    "        lines = file.readlines()\n",
    "\n",
    "    # Iterate through lines to extract short and long captions\n",
    "    i = 0\n",
    "    while i < len(lines):\n",
    "        if lines[i].startswith('short caption:'):\n",
    "            short_caption = \"prompt: \"+lines[i].replace('short caption:', '').strip()\n",
    "            i += 1\n",
    "            if i < len(lines) and lines[i].startswith('long caption:'):\n",
    "                long_caption = \"response: \"+lines[i].replace('long caption:', '').strip()\n",
    "                caption_pairs.append((short_caption, long_caption))\n",
    "            else:\n",
    "                # If the next line doesn't start with 'long caption:', skip the entry\n",
    "                i += 1\n",
    "        else:\n",
    "            i += 1\n",
    "\n",
    "    return caption_pairs"
   ]
  },
  {
   "cell_type": "code",
   "execution_count": 5,
   "metadata": {},
   "outputs": [],
   "source": [
    "from sklearn.model_selection import train_test_split\n",
    "\n",
    "file_path = \"llama_formatted_data.jsonl\"\n",
    "data = load_data(file_path)\n",
    "\n",
    "# Split the data into training and evaluation sets\n",
    "train_data, eval_data = train_test_split(data, test_size=0.1, random_state=42)  # Adjust test_size as needed\n",
    "\n",
    "len(eval_data)"
   ]
  },
  {
   "cell_type": "code",
   "execution_count": 13,
   "metadata": {},
   "outputs": [],
   "source": [
    "train_file_path = \"./data/captions/captions.txt\"\n",
    "eval_file_path = \"./data/captions_dev/captions.txt\"\n",
    "\n",
    "# Save training dataset to file\n",
    "save_dataset_to_file(train_data, train_file_path)\n",
    "\n",
    "# Save evaluation dataset to file\n",
    "save_dataset_to_file(eval_data, eval_file_path)"
   ]
  },
  {
   "cell_type": "markdown",
   "metadata": {},
   "source": [
    "-If dataset is in jsonl format"
   ]
  },
  {
   "cell_type": "code",
   "execution_count": 9,
   "metadata": {
    "tags": []
   },
   "outputs": [
    {
     "ename": "FileNotFoundError",
     "evalue": "[Errno 2] No such file or directory: 'gs://upstartdatasetimages/llama_formatted_data.jsonl'",
     "output_type": "error",
     "traceback": [
      "\u001b[0;31m---------------------------------------------------------------------------\u001b[0m",
      "\u001b[0;31mFileNotFoundError\u001b[0m                         Traceback (most recent call last)",
      "Cell \u001b[0;32mIn[9], line 23\u001b[0m\n\u001b[1;32m     21\u001b[0m \u001b[38;5;66;03m# Read the data from the JSONL file\u001b[39;00m\n\u001b[1;32m     22\u001b[0m data \u001b[38;5;241m=\u001b[39m []\n\u001b[0;32m---> 23\u001b[0m \u001b[38;5;28;01mwith\u001b[39;00m \u001b[43mjsonlines\u001b[49m\u001b[38;5;241;43m.\u001b[39;49m\u001b[43mopen\u001b[49m\u001b[43m(\u001b[49m\u001b[43mjsonl_file\u001b[49m\u001b[43m,\u001b[49m\u001b[43m \u001b[49m\u001b[38;5;124;43m'\u001b[39;49m\u001b[38;5;124;43mr\u001b[39;49m\u001b[38;5;124;43m'\u001b[39;49m\u001b[43m)\u001b[49m \u001b[38;5;28;01mas\u001b[39;00m reader:\n\u001b[1;32m     24\u001b[0m     \u001b[38;5;28;01mfor\u001b[39;00m line \u001b[38;5;129;01min\u001b[39;00m reader:\n\u001b[1;32m     25\u001b[0m         data\u001b[38;5;241m.\u001b[39mappend(line)\n",
      "File \u001b[0;32m/opt/conda/lib/python3.10/site-packages/jsonlines/jsonlines.py:643\u001b[0m, in \u001b[0;36mopen\u001b[0;34m(file, mode, loads, dumps, compact, sort_keys, flush)\u001b[0m\n\u001b[1;32m    641\u001b[0m \u001b[38;5;28mcls\u001b[39m \u001b[38;5;241m=\u001b[39m Reader \u001b[38;5;28;01mif\u001b[39;00m mode \u001b[38;5;241m==\u001b[39m \u001b[38;5;124m\"\u001b[39m\u001b[38;5;124mr\u001b[39m\u001b[38;5;124m\"\u001b[39m \u001b[38;5;28;01melse\u001b[39;00m Writer\n\u001b[1;32m    642\u001b[0m encoding \u001b[38;5;241m=\u001b[39m \u001b[38;5;124m\"\u001b[39m\u001b[38;5;124mutf-8-sig\u001b[39m\u001b[38;5;124m\"\u001b[39m \u001b[38;5;28;01mif\u001b[39;00m mode \u001b[38;5;241m==\u001b[39m \u001b[38;5;124m\"\u001b[39m\u001b[38;5;124mr\u001b[39m\u001b[38;5;124m\"\u001b[39m \u001b[38;5;28;01melse\u001b[39;00m \u001b[38;5;124m\"\u001b[39m\u001b[38;5;124mutf-8\u001b[39m\u001b[38;5;124m\"\u001b[39m\n\u001b[0;32m--> 643\u001b[0m fp \u001b[38;5;241m=\u001b[39m \u001b[43mbuiltins\u001b[49m\u001b[38;5;241;43m.\u001b[39;49m\u001b[43mopen\u001b[49m\u001b[43m(\u001b[49m\u001b[43mfile\u001b[49m\u001b[43m,\u001b[49m\u001b[43m \u001b[49m\u001b[43mmode\u001b[49m\u001b[38;5;241;43m=\u001b[39;49m\u001b[43mmode\u001b[49m\u001b[43m \u001b[49m\u001b[38;5;241;43m+\u001b[39;49m\u001b[43m \u001b[49m\u001b[38;5;124;43m\"\u001b[39;49m\u001b[38;5;124;43mt\u001b[39;49m\u001b[38;5;124;43m\"\u001b[39;49m\u001b[43m,\u001b[49m\u001b[43m \u001b[49m\u001b[43mencoding\u001b[49m\u001b[38;5;241;43m=\u001b[39;49m\u001b[43mencoding\u001b[49m\u001b[43m)\u001b[49m\n\u001b[1;32m    644\u001b[0m kwargs \u001b[38;5;241m=\u001b[39m \u001b[38;5;28mdict\u001b[39m(\n\u001b[1;32m    645\u001b[0m     loads\u001b[38;5;241m=\u001b[39mloads,\n\u001b[1;32m    646\u001b[0m     dumps\u001b[38;5;241m=\u001b[39mdumps,\n\u001b[0;32m   (...)\u001b[0m\n\u001b[1;32m    649\u001b[0m     flush\u001b[38;5;241m=\u001b[39mflush,\n\u001b[1;32m    650\u001b[0m )\n\u001b[1;32m    651\u001b[0m kwargs \u001b[38;5;241m=\u001b[39m {key: value \u001b[38;5;28;01mfor\u001b[39;00m key, value \u001b[38;5;129;01min\u001b[39;00m kwargs\u001b[38;5;241m.\u001b[39mitems() \u001b[38;5;28;01mif\u001b[39;00m value \u001b[38;5;129;01mis\u001b[39;00m \u001b[38;5;129;01mnot\u001b[39;00m \u001b[38;5;28;01mNone\u001b[39;00m}\n",
      "\u001b[0;31mFileNotFoundError\u001b[0m: [Errno 2] No such file or directory: 'gs://upstartdatasetimages/llama_formatted_data.jsonl'"
     ]
    }
   ],
   "source": [
    "import jsonlines\n",
    "import random\n",
    "import os\n",
    "import gcsfs\n",
    "\n",
    "fs=gcsfs.GCSFileSystem(project='Upstart Fast Collaboration')\n",
    "\n",
    "# Set the path to your JSONL file\n",
    "jsonl_file = \"gs://upstartdatasetimages/llama_formatted_data.jsonl\"\n",
    "\n",
    "# Set the paths for the train and test files\n",
    "train_file = './data/captions/captions.jsonl'\n",
    "test_file = \"./data/captions_dev/captions.jsonl\"\n",
    "\n",
    "os.makedirs(os.path.dirname(train_file), exist_ok=True)\n",
    "os.makedirs(os.path.dirname(test_file), exist_ok=True)\n",
    "\n",
    "# Set the ratio of data to be used for training (e.g., 80%)\n",
    "train_ratio = 0.8\n",
    "\n",
    "# Read the data from the JSONL file\n",
    "data = []\n",
    "with jsonlines.open(jsonl_file, 'r') as reader:\n",
    "    for line in reader:\n",
    "        data.append(line)\n",
    "\n",
    "# Shuffle the data randomly\n",
    "random.shuffle(data)\n",
    "\n",
    "# Calculate the number of samples for the training set\n",
    "num_train_samples = int(train_ratio * len(data))\n",
    "\n",
    "# Split the data into train and test sets\n",
    "train_data = data[:num_train_samples]\n",
    "test_data = data[num_train_samples:]\n",
    "\n",
    "# Write the train data to the train file\n",
    "with jsonlines.open(train_file, 'w') as writer:\n",
    "    for record in train_data:\n",
    "        writer.write(record)\n",
    "\n",
    "# Write the test data to the test file\n",
    "with jsonlines.open(test_file, 'w') as writer:\n",
    "    for record in test_data:\n",
    "        writer.write(record)\n",
    "\n",
    "print(\"Dataset split into train and test sets successfully.\")\n"
   ]
  },
  {
   "cell_type": "code",
   "execution_count": 2,
   "metadata": {
    "tags": []
   },
   "outputs": [
    {
     "name": "stdout",
     "output_type": "stream",
     "text": [
      "Collecting jsonlines\n",
      "  Downloading jsonlines-4.0.0-py3-none-any.whl.metadata (1.6 kB)\n",
      "Requirement already satisfied: attrs>=19.2.0 in /opt/conda/lib/python3.10/site-packages (from jsonlines) (23.2.0)\n",
      "Downloading jsonlines-4.0.0-py3-none-any.whl (8.7 kB)\n",
      "Installing collected packages: jsonlines\n",
      "Successfully installed jsonlines-4.0.0\n",
      "Note: you may need to restart the kernel to use updated packages.\n"
     ]
    }
   ],
   "source": [
    "pip install jsonlines"
   ]
  },
  {
   "cell_type": "code",
   "execution_count": null,
   "metadata": {},
   "outputs": [],
   "source": []
  }
 ],
 "metadata": {
  "environment": {
   "kernel": "python3",
   "name": ".m116",
   "type": "gcloud",
   "uri": "gcr.io/deeplearning-platform-release/:m116"
  },
  "kernelspec": {
   "display_name": "Python 3",
   "language": "python",
   "name": "python3"
  },
  "language_info": {
   "codemirror_mode": {
    "name": "ipython",
    "version": 3
   },
   "file_extension": ".py",
   "mimetype": "text/x-python",
   "name": "python",
   "nbconvert_exporter": "python",
   "pygments_lexer": "ipython3",
   "version": "3.10.13"
  }
 },
 "nbformat": 4,
 "nbformat_minor": 4
}
